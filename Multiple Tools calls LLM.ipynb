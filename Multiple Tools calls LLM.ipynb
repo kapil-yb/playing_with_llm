{
 "cells": [
  {
   "cell_type": "markdown",
   "id": "3a47dc59",
   "metadata": {},
   "source": [
    "# Project - Airline AI Assistant\n",
    "\n",
    "We'll now bring together what we've learned to make an AI Customer Support assistant for an Airline\n",
    "\n",
    "This code handle multiple tools call by the llm model"
   ]
  },
  {
   "cell_type": "code",
   "execution_count": 3,
   "id": "541eac7e",
   "metadata": {},
   "outputs": [],
   "source": [
    "# imports\n",
    "\n",
    "import os\n",
    "import json\n",
    "from dotenv import load_dotenv\n",
    "from openai import OpenAI\n",
    "import gradio as gr"
   ]
  },
  {
   "cell_type": "code",
   "execution_count": 4,
   "id": "2a311f6f",
   "metadata": {},
   "outputs": [
    {
     "name": "stdout",
     "output_type": "stream",
     "text": [
      "OpenAI API Key exists and begins sk-proj-\n"
     ]
    }
   ],
   "source": [
    "# Initialization\n",
    "\n",
    "load_dotenv(override=True)\n",
    "\n",
    "openai_api_key = os.getenv('OPENAI_API_KEY')\n",
    "if openai_api_key:\n",
    "    print(f\"OpenAI API Key exists and begins {openai_api_key[:8]}\")\n",
    "else:\n",
    "    print(\"OpenAI API Key not set\")\n",
    "    \n",
    "MODEL = \"gpt-4o-mini\"\n",
    "openai = OpenAI()"
   ]
  },
  {
   "cell_type": "code",
   "execution_count": 5,
   "id": "91b7c645",
   "metadata": {},
   "outputs": [],
   "source": [
    "system_message = \"You are a helpful assistant for an Airline called FlightAI. \"\n",
    "system_message += \"Give short, courteous answers, no more than 1 sentence. \"\n",
    "system_message += \"Always be accurate. If you don't know the answer, say so.\""
   ]
  },
  {
   "cell_type": "code",
   "execution_count": 6,
   "id": "6ccc1371",
   "metadata": {},
   "outputs": [],
   "source": [
    "# This function looks rather simpler than the one from my video, because we're taking advantage of the latest Gradio updates\n",
    "\n",
    "def chat(message, history):\n",
    "    messages = [{\"role\": \"system\", \"content\": system_message}] + history + [{\"role\": \"user\", \"content\": message}]\n",
    "    response = openai.chat.completions.create(model=MODEL, messages=messages)\n",
    "    return response.choices[0].message.content\n",
    "\n",
    "#gr.ChatInterface(fn=chat, type=\"messages\").launch()"
   ]
  },
  {
   "cell_type": "markdown",
   "id": "cca2d849",
   "metadata": {},
   "source": [
    "## Tools\n",
    "\n",
    "Tools are an incredibly powerful feature provided by the frontier LLMs.\n",
    "\n",
    "With tools, you can write a function, and have the LLM call that function as part of its response.\n",
    "\n",
    "Sounds almost spooky.. we're giving it the power to run code on our machine?\n",
    "\n",
    "Well, kinda."
   ]
  },
  {
   "cell_type": "code",
   "execution_count": 7,
   "id": "5c4ab113",
   "metadata": {},
   "outputs": [],
   "source": [
    "# Let's start by making a useful function\n",
    "\n",
    "ticket_prices = {\"london\": \"$799\", \"paris\": \"$899\", \"tokyo\": \"$1400\", \"berlin\": \"$499\"}\n",
    "\n",
    "def get_ticket_price(destination_city):\n",
    "    print(f\"Tool get_ticket_price called for {destination_city}\")\n",
    "    city = destination_city.lower()\n",
    "    return ticket_prices.get(city, \"Unknown\")"
   ]
  },
  {
   "cell_type": "code",
   "execution_count": 8,
   "id": "9e4f8108",
   "metadata": {},
   "outputs": [
    {
     "name": "stdout",
     "output_type": "stream",
     "text": [
      "Tool get_ticket_price called for Berlin\n"
     ]
    },
    {
     "data": {
      "text/plain": [
       "'$499'"
      ]
     },
     "execution_count": 8,
     "metadata": {},
     "output_type": "execute_result"
    }
   ],
   "source": [
    "get_ticket_price(\"Berlin\")"
   ]
  },
  {
   "cell_type": "code",
   "execution_count": 9,
   "id": "d7091a97",
   "metadata": {},
   "outputs": [],
   "source": [
    "# There's a particular dictionary structure that's required to describe our function:\n",
    "\n",
    "price_function = {\n",
    "    \"name\": \"get_ticket_price\",\n",
    "    \"description\": \"Get the price of a return ticket to the destination city. Call this whenever you need to know the ticket price, for example when a customer asks 'How much is a ticket to this city'\",\n",
    "    \"parameters\": {\n",
    "        \"type\": \"object\",\n",
    "        \"properties\": {\n",
    "            \"destination_city\": {\n",
    "                \"type\": \"string\",\n",
    "                \"description\": \"The city that the customer wants to travel to\",\n",
    "            },\n",
    "        },\n",
    "        \"required\": [\"destination_city\"],\n",
    "        \"additionalProperties\": False\n",
    "    }\n",
    "}"
   ]
  },
  {
   "cell_type": "code",
   "execution_count": 10,
   "id": "e81d70ff",
   "metadata": {},
   "outputs": [],
   "source": [
    "# And this is included in a list of tools:\n",
    "\n",
    "tools = [{\"type\": \"function\", \"function\": price_function}]"
   ]
  },
  {
   "cell_type": "code",
   "execution_count": 11,
   "id": "a33ed35d-13a0-4c3a-a808-1a66cb4fd4d3",
   "metadata": {},
   "outputs": [],
   "source": [
    "# Let's start by making a useful function\n",
    "\n",
    "available_flight = {\"pune\": \"Yes\", \"mumbai\": \"Yes\", \"tokyo\": \"No\", \"berlin\": \"No\"}\n",
    "\n",
    "def get_available_flight(destination_city):\n",
    "    print(f\"Tool get_available_flight called for {destination_city}\")\n",
    "    city = destination_city.lower()\n",
    "    return available_flight.get(city, \"Unknown\")"
   ]
  },
  {
   "cell_type": "code",
   "execution_count": 12,
   "id": "36c760b6-98fd-4d31-9ed8-344a90145354",
   "metadata": {},
   "outputs": [
    {
     "name": "stdout",
     "output_type": "stream",
     "text": [
      "Tool get_available_flight called for pune\n"
     ]
    },
    {
     "data": {
      "text/plain": [
       "'Yes'"
      ]
     },
     "execution_count": 12,
     "metadata": {},
     "output_type": "execute_result"
    }
   ],
   "source": [
    "get_available_flight(\"pune\")"
   ]
  },
  {
   "cell_type": "code",
   "execution_count": 13,
   "id": "f87daac8-ccbd-48b3-9839-f08fbf2603a8",
   "metadata": {},
   "outputs": [],
   "source": [
    "# There's a particular dictionary structure that's required to describe our function:\n",
    "\n",
    "available_function = {\n",
    "    \"name\": \"get_available_flight\",\n",
    "    \"description\": \"Get the availability of flight to the destination city. Call this whenever you need to know the flight availability, for example when a customer asks 'Do you have flight available to Pune'\",\n",
    "    \"parameters\": {\n",
    "        \"type\": \"object\",\n",
    "        \"properties\": {\n",
    "            \"destination_city\": {\n",
    "                \"type\": \"string\",\n",
    "                \"description\": \"The city that the customer wants to travel to\",\n",
    "            },\n",
    "        },\n",
    "        \"required\": [\"destination_city\"],\n",
    "        \"additionalProperties\": False\n",
    "    }\n",
    "}"
   ]
  },
  {
   "cell_type": "code",
   "execution_count": 14,
   "id": "5531882d-9812-4631-8137-450b37afdeed",
   "metadata": {},
   "outputs": [],
   "source": [
    "# And this is included in a list of tools:\n",
    "\n",
    "tools = [{\"type\": \"function\", \"function\": price_function},{\"type\": \"function\", \"function\": available_function}]"
   ]
  },
  {
   "cell_type": "markdown",
   "id": "fdf6ba6d",
   "metadata": {},
   "source": [
    "## Getting OpenAI to use our Tool\n",
    "\n",
    "There's some fiddly stuff to allow OpenAI \"to call our tool\"\n",
    "\n",
    "What we actually do is give the LLM the opportunity to inform us that it wants us to run the tool.\n",
    "\n",
    "Here's how the new chat function looks:"
   ]
  },
  {
   "cell_type": "code",
   "execution_count": 23,
   "id": "c1b91cde",
   "metadata": {},
   "outputs": [],
   "source": [
    "def chat(message, history):\n",
    "    \"\"\"\n",
    "    Main chat function that handles the conversation flow, including tool calls.\n",
    "    \"\"\"\n",
    "    # Append the user's message to the history\n",
    "    messages = [{\"role\": \"system\", \"content\": system_message}] + history + [{\"role\": \"user\", \"content\": message}]\n",
    "\n",
    "    # First call to the model\n",
    "    response = openai.chat.completions.create(model=MODEL, messages=messages, tools=tools)\n",
    "    response_message = response.choices[0].message\n",
    "\n",
    "    # Check if the model decided to call tools\n",
    "    if response_message.tool_calls:\n",
    "        print(\"Model wants to call one or more tools.\")\n",
    "        # Append the assistant's message indicating a tool call is needed\n",
    "        messages.append(response_message)\n",
    "\n",
    "        # Execute the tool calls and get the responses\n",
    "        tool_responses = handle_tool_call(response_message)\n",
    "\n",
    "        # Append the tool responses to the conversation history\n",
    "        messages.extend(tool_responses)\n",
    "\n",
    "        # Make a second call to the model with the tool responses\n",
    "        print(\"Sending tool responses back to the model...\")\n",
    "        second_response = openai.chat.completions.create(model=MODEL, messages=messages)\n",
    "\n",
    "        # The final reply is in the second response\n",
    "        final_response = second_response.choices[0].message.content\n",
    "    else:\n",
    "        # If no tool calls, the first response is the final one\n",
    "        final_response = response_message.content\n",
    "\n",
    "    return final_response"
   ]
  },
  {
   "cell_type": "code",
   "execution_count": 24,
   "id": "cfef430e",
   "metadata": {},
   "outputs": [],
   "source": [
    "import gradio as gr"
   ]
  },
  {
   "cell_type": "code",
   "execution_count": 25,
   "id": "8badb2e6",
   "metadata": {},
   "outputs": [],
   "source": [
    "# We have to write that function handle_tool_call:\n",
    "\n",
    "def handle_tool_call(message):\n",
    "    tool_responses = []\n",
    "    \n",
    "    for tool_call in message.tool_calls:\n",
    "        function_name=tool_call.function.name\n",
    "        arguments = json.loads(tool_call.function.arguments)\n",
    "\n",
    "\n",
    "        print(f\"Model requested call to function: '{function_name}' with arguments: {arguments}\")\n",
    "\n",
    "        \n",
    "        if (function_name == 'get_ticket_price'):\n",
    "            city = arguments.get('destination_city')\n",
    "            price = get_ticket_price(city)\n",
    "            content = json.dumps({\"destination_city\": city, \"price\": price})\n",
    "            \n",
    "        elif (function_name == 'get_available_flight'):\n",
    "            city = arguments.get('destination_city')\n",
    "            availability = get_available_flight(city)\n",
    "            content = json.dumps({\"destination_city\": city, \"available\": availability})\n",
    "\n",
    "        else:\n",
    "            # Handle cases where the model calls a function that doesn't exist\n",
    "            print(f\"Error: Model called unknown function '{function_name}'\")\n",
    "            content = json.dumps({\"error\": \"Unknown function called.\"})\n",
    "\n",
    "        # Append the formatted response for this specific tool call\n",
    "        tool_responses.append({\n",
    "            \"role\": \"tool\",\n",
    "            \"tool_call_id\": tool_call.id,\n",
    "            \"name\": function_name,\n",
    "            \"content\": content,\n",
    "        })\n",
    "\n",
    "    return tool_responses"
   ]
  },
  {
   "cell_type": "code",
   "execution_count": 26,
   "id": "e861f4fb",
   "metadata": {},
   "outputs": [
    {
     "name": "stdout",
     "output_type": "stream",
     "text": [
      "* Running on local URL:  http://127.0.0.1:7879\n",
      "* To create a public link, set `share=True` in `launch()`.\n"
     ]
    },
    {
     "data": {
      "text/html": [
       "<div><iframe src=\"http://127.0.0.1:7879/\" width=\"100%\" height=\"500\" allow=\"autoplay; camera; microphone; clipboard-read; clipboard-write;\" frameborder=\"0\" allowfullscreen></iframe></div>"
      ],
      "text/plain": [
       "<IPython.core.display.HTML object>"
      ]
     },
     "metadata": {},
     "output_type": "display_data"
    },
    {
     "data": {
      "text/plain": []
     },
     "execution_count": 26,
     "metadata": {},
     "output_type": "execute_result"
    },
    {
     "name": "stdout",
     "output_type": "stream",
     "text": [
      "Model wants to call one or more tools.\n",
      "Model requested call to function: 'get_available_flight' with arguments: {'destination_city': 'Pune'}\n",
      "Tool get_available_flight called for Pune\n",
      "Sending tool responses back to the model...\n",
      "Model wants to call one or more tools.\n",
      "Model requested call to function: 'get_ticket_price' with arguments: {'destination_city': 'Tokyo'}\n",
      "Tool get_ticket_price called for Tokyo\n",
      "Sending tool responses back to the model...\n",
      "Model wants to call one or more tools.\n",
      "Model requested call to function: 'get_available_flight' with arguments: {'destination_city': 'Pune'}\n",
      "Tool get_available_flight called for Pune\n",
      "Model requested call to function: 'get_ticket_price' with arguments: {'destination_city': 'Tokyo'}\n",
      "Tool get_ticket_price called for Tokyo\n",
      "Sending tool responses back to the model...\n"
     ]
    }
   ],
   "source": [
    "gr.ChatInterface(fn=chat, type=\"messages\").launch()"
   ]
  },
  {
   "cell_type": "code",
   "execution_count": null,
   "id": "4f5b2585",
   "metadata": {},
   "outputs": [],
   "source": []
  },
  {
   "cell_type": "code",
   "execution_count": null,
   "id": "bab8f9b3",
   "metadata": {},
   "outputs": [],
   "source": []
  }
 ],
 "metadata": {
  "kernelspec": {
   "display_name": "Python 3 (ipykernel)",
   "language": "python",
   "name": "python3"
  },
  "language_info": {
   "codemirror_mode": {
    "name": "ipython",
    "version": 3
   },
   "file_extension": ".py",
   "mimetype": "text/x-python",
   "name": "python",
   "nbconvert_exporter": "python",
   "pygments_lexer": "ipython3",
   "version": "3.10.13"
  }
 },
 "nbformat": 4,
 "nbformat_minor": 5
}
